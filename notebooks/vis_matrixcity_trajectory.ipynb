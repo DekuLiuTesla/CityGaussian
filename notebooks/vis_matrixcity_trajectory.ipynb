{
 "cells": [
  {
   "cell_type": "code",
   "execution_count": 6,
   "metadata": {},
   "outputs": [],
   "source": [
    "import os\n",
    "import json\n",
    "import numpy as np\n",
    "import matplotlib.pyplot as plt"
   ]
  },
  {
   "cell_type": "code",
   "execution_count": 7,
   "metadata": {},
   "outputs": [],
   "source": [
    "def draw_trajectory(transforms_path, ax, color='r', size=20):\n",
    "    plt.style.use('seaborn-whitegrid')\n",
    "\n",
    "    with open(transforms_path) as json_file:\n",
    "        contents = json.load(json_file)\n",
    "        fovx = contents[\"camera_angle_x\"]\n",
    "        frames = contents[\"frames\"]\n",
    "\n",
    "        for idx, frame in enumerate(frames):\n",
    "            c2w = np.array(frame[\"rot_mat\"])\n",
    "            pos = c2w[:3, 3]  # camera center position\n",
    "            x_dir = c2w[:3, 0] / (np.linalg.norm(c2w[:3, 0]) + 1e-8)\n",
    "            y_dir = c2w[:3, 1] / (np.linalg.norm(c2w[:3, 1]) + 1e-8)\n",
    "            z_dir = c2w[:3, 2] / (np.linalg.norm(c2w[:3, 2]) + 1e-8)\n",
    "            a = pos + size * x_dir + size * y_dir + size * z_dir\n",
    "            b = pos - size * x_dir + size * y_dir + size * z_dir\n",
    "            c = pos - size * x_dir - size * y_dir + size * z_dir\n",
    "            d = pos + size * x_dir - size * y_dir + size * z_dir\n",
    "\n",
    "            dir = (a + b + c + d) / 4 - pos  # camera view direction, i.e. z-axis\n",
    "            dir = dir / (np.linalg.norm(dir) + 1e-8)\n",
    "            o = pos + dir * 3\n",
    "\n",
    "            ax.plot([pos[0], o[0]], [pos[1], o[1]], color=color)\n",
    "            ax.plot([pos[0], a[0]], [pos[1], a[1]], color=color)\n",
    "            ax.plot([pos[0], b[0]], [pos[1], b[1]], color=color)\n",
    "            ax.plot([pos[0], c[0]], [pos[1], c[1]], color=color)\n",
    "            ax.plot([pos[0], d[0]], [pos[1], d[1]], color=color)\n",
    "            ax.plot([a[0], b[0]], [a[1], b[1]], color=color)\n",
    "            ax.plot([b[0], c[0]], [b[1], c[1]], color=color)\n",
    "            ax.plot([c[0], d[0]], [c[1], d[1]], color=color)\n",
    "            ax.plot([d[0], a[0]], [d[1], a[1]], color=color)\n",
    "\n",
    "    ax.axis('equal')\n",
    "    ax.set_xlabel('x/m')\n",
    "    ax.set_ylabel('y/m')"
   ]
  },
  {
   "cell_type": "code",
   "execution_count": 8,
   "metadata": {},
   "outputs": [],
   "source": [
    "data_path, subset = '../data/matrix_city', 'small_city_road_down'\n",
    "fig, axs = plt.subplots(1, 2, figsize=(40, 20))\n",
    "\n",
    "split = 'test'\n",
    "name = subset + '_test' if split == 'test' else subset\n",
    "transforms_path = os.path.join(data_path, split, name, 'transforms.json')\n",
    "axs[0].set_title(f'Trajectory of {name}')\n",
    "draw_trajectory(transforms_path, axs[0], color='r', size=20)\n",
    "\n",
    "split = 'train'\n",
    "name = subset + '_test' if split == 'test' else subset\n",
    "transforms_path = os.path.join(data_path, split, name, 'transforms.json')\n",
    "axs[1].set_title(f'Trajectory of {name}')\n",
    "draw_trajectory(transforms_path, axs[1], color='b', size=20)\n",
    "\n",
    "plt.show()"
   ]
  }
 ],
 "metadata": {
  "kernelspec": {
   "display_name": "Python 3 (ipykernel)",
   "language": "python",
   "name": "python3"
  },
  "language_info": {
   "codemirror_mode": {
    "name": "ipython",
    "version": 3
   },
   "file_extension": ".py",
   "mimetype": "text/x-python",
   "name": "python",
   "nbconvert_exporter": "python",
   "pygments_lexer": "ipython3",
   "version": "3.9.13"
  },
  "orig_nbformat": 4
 },
 "nbformat": 4,
 "nbformat_minor": 2
}
