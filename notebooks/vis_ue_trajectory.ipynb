{
 "cells": [
  {
   "cell_type": "code",
   "execution_count": 1,
   "metadata": {},
   "outputs": [],
   "source": [
    "import os\n",
    "import json\n",
    "import numpy as np\n",
    "import matplotlib.pyplot as plt\n",
    "from mpl_toolkits.mplot3d import Axes3D"
   ]
  },
  {
   "cell_type": "code",
   "execution_count": 24,
   "metadata": {},
   "outputs": [],
   "source": [
    "def draw_trajectory(transforms_path, ax, color='r', size=20, interval=1, view_num=1):\n",
    "    plt.style.use('seaborn-whitegrid')\n",
    "    legend_flag = False\n",
    "    \n",
    "\n",
    "    with open(transforms_path) as json_file:\n",
    "        contents = json.load(json_file)\n",
    "        fovx = contents[\"camera_angle_x\"]\n",
    "        frames = contents[\"frames\"]\n",
    "        delta = 0.0\n",
    "        cnt = 0\n",
    "        pre_pos = None\n",
    "\n",
    "        for idx, frame in enumerate(frames):\n",
    "            if idx % (interval * view_num) != 0:\n",
    "                continue\n",
    "            file_path = os.path.split(frame['file_path'])[-1]\n",
    "            # transform a to list\n",
    "            c2w = np.array(frame['transform_matrix'])\n",
    "\n",
    "            pos = c2w[:3, 3]  # camera center position\n",
    "            x_dir = c2w[:3, 0] / (np.linalg.norm(c2w[:3, 0]) + 1e-8)\n",
    "            y_dir = c2w[:3, 1] / (np.linalg.norm(c2w[:3, 1]) + 1e-8)\n",
    "            z_dir = c2w[:3, 2] / (np.linalg.norm(c2w[:3, 2]) + 1e-8)\n",
    "            a = pos + size * x_dir + size * y_dir + size * z_dir\n",
    "            b = pos - size * x_dir + size * y_dir + size * z_dir\n",
    "            c = pos - size * x_dir - size * y_dir + size * z_dir\n",
    "            d = pos + size * x_dir - size * y_dir + size * z_dir\n",
    "\n",
    "            dir = (a + b + c + d) / 4 - pos  # camera view direction, i.e. z-axis\n",
    "            dir = dir / (np.linalg.norm(dir) + 1e-8)\n",
    "            o = pos + dir * 3\n",
    "\n",
    "            ax.arrow(pos[0], pos[1], size * x_dir[0], size * x_dir[1], color='r', head_width=size/2, label='x-axis')\n",
    "            # ax.arrow(pos[1], pos[0], size * y_dir[1], size * y_dir[0], color='g', head_width=size/2, label='y-axis')\n",
    "            ax.arrow(pos[0], pos[1], size * z_dir[0], size * z_dir[1], color='b', head_width=size/2, label='z-axis')\n",
    "            if not legend_flag:\n",
    "                ax.legend()\n",
    "                legend_flag = True\n",
    "            \n",
    "            if pre_pos is None:\n",
    "                pre_pos = pos\n",
    "            else:\n",
    "                delta += np.linalg.norm(pos - pre_pos)\n",
    "                cnt += 1.0\n",
    "                pre_pos = pos\n",
    "\n",
    "    base_step = delta / cnt / interval\n",
    "    print('Average step length: {:.2f}/{:.2f}m'.format(base_step * interval, base_step))\n",
    "    print('Total images: {}/{}'.format(int(cnt), len(frames)))\n",
    "\n",
    "    ax.axis('equal')\n",
    "    ax.set_xlabel('x/m')\n",
    "    ax.set_ylabel('y/m')"
   ]
  },
  {
   "cell_type": "code",
   "execution_count": 25,
   "metadata": {},
   "outputs": [
    {
     "ename": "ZeroDivisionError",
     "evalue": "float division by zero",
     "output_type": "error",
     "traceback": [
      "\u001b[0;31m---------------------------------------------------------------------------\u001b[0m",
      "\u001b[0;31mZeroDivisionError\u001b[0m                         Traceback (most recent call last)",
      "\u001b[0;32m/tmp/ipykernel_3425794/3176266150.py\u001b[0m in \u001b[0;36m<module>\u001b[0;34m\u001b[0m\n\u001b[1;32m      3\u001b[0m \u001b[0mfig\u001b[0m \u001b[0;34m=\u001b[0m \u001b[0mplt\u001b[0m\u001b[0;34m.\u001b[0m\u001b[0mfigure\u001b[0m\u001b[0;34m(\u001b[0m\u001b[0;34m)\u001b[0m\u001b[0;34m\u001b[0m\u001b[0;34m\u001b[0m\u001b[0m\n\u001b[1;32m      4\u001b[0m \u001b[0max\u001b[0m \u001b[0;34m=\u001b[0m \u001b[0mfig\u001b[0m\u001b[0;34m.\u001b[0m\u001b[0mgca\u001b[0m\u001b[0;34m(\u001b[0m\u001b[0;34m)\u001b[0m\u001b[0;34m\u001b[0m\u001b[0;34m\u001b[0m\u001b[0m\n\u001b[0;32m----> 5\u001b[0;31m \u001b[0mdraw_trajectory\u001b[0m\u001b[0;34m(\u001b[0m\u001b[0mtransforms_path\u001b[0m\u001b[0;34m,\u001b[0m \u001b[0max\u001b[0m\u001b[0;34m,\u001b[0m \u001b[0mcolor\u001b[0m\u001b[0;34m=\u001b[0m\u001b[0;34m'r'\u001b[0m\u001b[0;34m,\u001b[0m \u001b[0msize\u001b[0m\u001b[0;34m=\u001b[0m\u001b[0;36m10\u001b[0m\u001b[0;34m,\u001b[0m \u001b[0minterval\u001b[0m\u001b[0;34m=\u001b[0m\u001b[0;36m10\u001b[0m\u001b[0;34m,\u001b[0m \u001b[0mview_num\u001b[0m\u001b[0;34m=\u001b[0m\u001b[0;36m6\u001b[0m\u001b[0;34m)\u001b[0m\u001b[0;34m\u001b[0m\u001b[0;34m\u001b[0m\u001b[0m\n\u001b[0m\u001b[1;32m      6\u001b[0m \u001b[0mplt\u001b[0m\u001b[0;34m.\u001b[0m\u001b[0mshow\u001b[0m\u001b[0;34m(\u001b[0m\u001b[0;34m)\u001b[0m\u001b[0;34m\u001b[0m\u001b[0;34m\u001b[0m\u001b[0m\n",
      "\u001b[0;32m/tmp/ipykernel_3425794/448623643.py\u001b[0m in \u001b[0;36mdraw_trajectory\u001b[0;34m(transforms_path, ax, color, size, interval, view_num)\u001b[0m\n\u001b[1;32m     46\u001b[0m                 \u001b[0mpre_pos\u001b[0m \u001b[0;34m=\u001b[0m \u001b[0mpos\u001b[0m\u001b[0;34m\u001b[0m\u001b[0;34m\u001b[0m\u001b[0m\n\u001b[1;32m     47\u001b[0m \u001b[0;34m\u001b[0m\u001b[0m\n\u001b[0;32m---> 48\u001b[0;31m     \u001b[0mbase_step\u001b[0m \u001b[0;34m=\u001b[0m \u001b[0mdelta\u001b[0m \u001b[0;34m/\u001b[0m \u001b[0mcnt\u001b[0m \u001b[0;34m/\u001b[0m \u001b[0minterval\u001b[0m\u001b[0;34m\u001b[0m\u001b[0;34m\u001b[0m\u001b[0m\n\u001b[0m\u001b[1;32m     49\u001b[0m     \u001b[0mprint\u001b[0m\u001b[0;34m(\u001b[0m\u001b[0;34m'Average step length: {:.2f}/{:.2f}m'\u001b[0m\u001b[0;34m.\u001b[0m\u001b[0mformat\u001b[0m\u001b[0;34m(\u001b[0m\u001b[0mbase_step\u001b[0m \u001b[0;34m*\u001b[0m \u001b[0minterval\u001b[0m\u001b[0;34m,\u001b[0m \u001b[0mbase_step\u001b[0m\u001b[0;34m)\u001b[0m\u001b[0;34m)\u001b[0m\u001b[0;34m\u001b[0m\u001b[0;34m\u001b[0m\u001b[0m\n\u001b[1;32m     50\u001b[0m     \u001b[0mprint\u001b[0m\u001b[0;34m(\u001b[0m\u001b[0;34m'Total images: {}/{}'\u001b[0m\u001b[0;34m.\u001b[0m\u001b[0mformat\u001b[0m\u001b[0;34m(\u001b[0m\u001b[0mint\u001b[0m\u001b[0;34m(\u001b[0m\u001b[0mcnt\u001b[0m\u001b[0;34m)\u001b[0m\u001b[0;34m,\u001b[0m \u001b[0mlen\u001b[0m\u001b[0;34m(\u001b[0m\u001b[0mframes\u001b[0m\u001b[0;34m)\u001b[0m\u001b[0;34m)\u001b[0m\u001b[0;34m)\u001b[0m\u001b[0;34m\u001b[0m\u001b[0;34m\u001b[0m\u001b[0m\n",
      "\u001b[0;31mZeroDivisionError\u001b[0m: float division by zero"
     ]
    },
    {
     "data": {
      "image/png": "[encoded data removed]",
      "text/plain": [
       "<Figure size 640x480 with 1 Axes>"
      ]
     },
     "metadata": {},
     "output_type": "display_data"
    }
   ],
   "source": [
    "# data_path, subset = '../data/UE-collected', 'vehicle-train-20231114'\n",
    "transforms_path = os.path.join('../data/UE-collected/street/train_dense/transforms_train.json')\n",
    "fig = plt.figure()\n",
    "ax = fig.gca()\n",
    "draw_trajectory(transforms_path, ax, color='r', size=10, interval=10, view_num=6)\n",
    "plt.show()"
   ]
  }
 ],
 "metadata": {
  "kernelspec": {
   "display_name": "Python 3 (ipykernel)",
   "language": "python",
   "name": "python3"
  },
  "language_info": {
   "codemirror_mode": {
    "name": "ipython",
    "version": 3
   },
   "file_extension": ".py",
   "mimetype": "text/x-python",
   "name": "python",
   "nbconvert_exporter": "python",
   "pygments_lexer": "ipython3",
   "version": "3.7.12"
  },
  "orig_nbformat": 4
 },
 "nbformat": 4,
 "nbformat_minor": 2
}
