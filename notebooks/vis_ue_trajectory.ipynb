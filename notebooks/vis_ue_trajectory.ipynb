{
 "cells": [
  {
   "cell_type": "code",
   "execution_count": 1,
   "metadata": {},
   "outputs": [],
   "source": [
    "import os\n",
    "import json\n",
    "import numpy as np\n",
    "import matplotlib.pyplot as plt\n",
    "from mpl_toolkits.mplot3d import Axes3D"
   ]
  },
  {
   "cell_type": "code",
   "execution_count": 2,
   "metadata": {},
   "outputs": [],
   "source": [
    "def draw_trajectory(transforms_path, ax, color='r', size=20, interval=1, view_num=1):\n",
    "    plt.style.use('seaborn-whitegrid')\n",
    "    legend_flag = False\n",
    "    \n",
    "\n",
    "    with open(transforms_path, 'r', encoding='utf-16') as json_file:\n",
    "        contents = json.load(json_file)\n",
    "        fovx = contents[\"camera_angle_x\"]\n",
    "        frames = contents[\"Frames\"]\n",
    "        delta = 0.0\n",
    "        cnt = 0\n",
    "        pre_pos = None\n",
    "\n",
    "        for idx, frame in enumerate(frames):\n",
    "            if idx % (interval * view_num) != 0:\n",
    "                continue\n",
    "            file_path = os.path.split(frame['file_path'])[-1]\n",
    "            # transform a to list\n",
    "            c2w = frame['transform_matrix']\n",
    "\n",
    "            pos = c2w[:3, 3]  # camera center position\n",
    "            x_dir = c2w[:3, 0] / (np.linalg.norm(c2w[:3, 0]) + 1e-8)\n",
    "            y_dir = c2w[:3, 1] / (np.linalg.norm(c2w[:3, 1]) + 1e-8)\n",
    "            z_dir = c2w[:3, 2] / (np.linalg.norm(c2w[:3, 2]) + 1e-8)\n",
    "            a = pos + size * x_dir + size * y_dir + size * z_dir\n",
    "            b = pos - size * x_dir + size * y_dir + size * z_dir\n",
    "            c = pos - size * x_dir - size * y_dir + size * z_dir\n",
    "            d = pos + size * x_dir - size * y_dir + size * z_dir\n",
    "\n",
    "            dir = (a + b + c + d) / 4 - pos  # camera view direction, i.e. z-axis\n",
    "            dir = dir / (np.linalg.norm(dir) + 1e-8)\n",
    "            o = pos + dir * 3\n",
    "\n",
    "            ax.arrow(pos[1], pos[0], size * x_dir[1], size * x_dir[0], color='r', head_width=size/2, label='x-axis')\n",
    "            ax.arrow(pos[1], pos[0], size * y_dir[1], size * y_dir[0], color='g', head_width=size/2, label='y-axis')\n",
    "            # ax.arrow(pos[2], pos[0], size * z_dir[2], size * z_dir[0], color='b', head_width=size/20000, label='z-axis')\n",
    "            if not legend_flag:\n",
    "                ax.legend()\n",
    "                legend_flag = True\n",
    "            \n",
    "            if pre_pos is None:\n",
    "                pre_pos = pos\n",
    "            else:\n",
    "                delta += np.linalg.norm(pos - pre_pos)\n",
    "                cnt += 1.0\n",
    "                pre_pos = pos\n",
    "\n",
    "    print('Average step length: {:.2f}m'.format(delta / cnt / interval))\n",
    "    ax.axis('equal')\n",
    "    ax.set_xlabel('y/m')\n",
    "    ax.set_ylabel('x/m')"
   ]
  },
  {
   "cell_type": "code",
   "execution_count": 3,
   "metadata": {},
   "outputs": [
    {
     "ename": "FileNotFoundError",
     "evalue": "[Errno 2] No such file or directory: '../data/UE-collected/test/input/transforms.json'",
     "output_type": "error",
     "traceback": [
      "\u001b[0;31m---------------------------------------------------------------------------\u001b[0m",
      "\u001b[0;31mFileNotFoundError\u001b[0m                         Traceback (most recent call last)",
      "\u001b[0;32m/tmp/ipykernel_3331477/4281854410.py\u001b[0m in \u001b[0;36m<module>\u001b[0;34m\u001b[0m\n\u001b[1;32m      4\u001b[0m \u001b[0mfig\u001b[0m \u001b[0;34m=\u001b[0m \u001b[0mplt\u001b[0m\u001b[0;34m.\u001b[0m\u001b[0mfigure\u001b[0m\u001b[0;34m(\u001b[0m\u001b[0;34m)\u001b[0m\u001b[0;34m\u001b[0m\u001b[0;34m\u001b[0m\u001b[0m\n\u001b[1;32m      5\u001b[0m \u001b[0max\u001b[0m \u001b[0;34m=\u001b[0m \u001b[0mfig\u001b[0m\u001b[0;34m.\u001b[0m\u001b[0mgca\u001b[0m\u001b[0;34m(\u001b[0m\u001b[0;34m)\u001b[0m\u001b[0;34m\u001b[0m\u001b[0;34m\u001b[0m\u001b[0m\n\u001b[0;32m----> 6\u001b[0;31m \u001b[0mdraw_trajectory\u001b[0m\u001b[0;34m(\u001b[0m\u001b[0mtransforms_path\u001b[0m\u001b[0;34m,\u001b[0m \u001b[0max\u001b[0m\u001b[0;34m,\u001b[0m \u001b[0mcolor\u001b[0m\u001b[0;34m=\u001b[0m\u001b[0;34m'r'\u001b[0m\u001b[0;34m,\u001b[0m \u001b[0msize\u001b[0m\u001b[0;34m=\u001b[0m\u001b[0;36m5\u001b[0m\u001b[0;34m)\u001b[0m\u001b[0;34m\u001b[0m\u001b[0;34m\u001b[0m\u001b[0m\n\u001b[0m\u001b[1;32m      7\u001b[0m \u001b[0mplt\u001b[0m\u001b[0;34m.\u001b[0m\u001b[0mshow\u001b[0m\u001b[0;34m(\u001b[0m\u001b[0;34m)\u001b[0m\u001b[0;34m\u001b[0m\u001b[0;34m\u001b[0m\u001b[0m\n",
      "\u001b[0;32m/tmp/ipykernel_3331477/3593439442.py\u001b[0m in \u001b[0;36mdraw_trajectory\u001b[0;34m(transforms_path, ax, color, size, interval)\u001b[0m\n\u001b[1;32m      4\u001b[0m \u001b[0;34m\u001b[0m\u001b[0m\n\u001b[1;32m      5\u001b[0m \u001b[0;34m\u001b[0m\u001b[0m\n\u001b[0;32m----> 6\u001b[0;31m     \u001b[0;32mwith\u001b[0m \u001b[0mopen\u001b[0m\u001b[0;34m(\u001b[0m\u001b[0mtransforms_path\u001b[0m\u001b[0;34m,\u001b[0m \u001b[0;34m'r'\u001b[0m\u001b[0;34m,\u001b[0m \u001b[0mencoding\u001b[0m\u001b[0;34m=\u001b[0m\u001b[0;34m'utf-16'\u001b[0m\u001b[0;34m)\u001b[0m \u001b[0;32mas\u001b[0m \u001b[0mjson_file\u001b[0m\u001b[0;34m:\u001b[0m\u001b[0;34m\u001b[0m\u001b[0;34m\u001b[0m\u001b[0m\n\u001b[0m\u001b[1;32m      7\u001b[0m         \u001b[0mcontents\u001b[0m \u001b[0;34m=\u001b[0m \u001b[0mjson\u001b[0m\u001b[0;34m.\u001b[0m\u001b[0mload\u001b[0m\u001b[0;34m(\u001b[0m\u001b[0mjson_file\u001b[0m\u001b[0;34m)\u001b[0m\u001b[0;34m\u001b[0m\u001b[0;34m\u001b[0m\u001b[0m\n\u001b[1;32m      8\u001b[0m         \u001b[0mfovx\u001b[0m \u001b[0;34m=\u001b[0m \u001b[0mcontents\u001b[0m\u001b[0;34m[\u001b[0m\u001b[0;34m\"camera_angle_x\"\u001b[0m\u001b[0;34m]\u001b[0m\u001b[0;34m\u001b[0m\u001b[0;34m\u001b[0m\u001b[0m\n",
      "\u001b[0;31mFileNotFoundError\u001b[0m: [Errno 2] No such file or directory: '../data/UE-collected/test/input/transforms.json'"
     ]
    },
    {
     "data": {
      "image/png": "[encoded data removed]",
      "text/plain": [
       "<Figure size 640x480 with 1 Axes>"
      ]
     },
     "metadata": {},
     "output_type": "display_data"
    }
   ],
   "source": [
    "# data_path, subset = '../data/UE-collected', 'vehicle-train-20231114'\n",
    "transforms_path = os.path.join('data/UE-collected/aerial/block1/transforms_train.json')\n",
    "fig = plt.figure()\n",
    "ax = fig.gca()\n",
    "draw_trajectory(transforms_path, ax, color='r', size=5)\n",
    "plt.show()"
   ]
  },
  {
   "cell_type": "code",
   "execution_count": 7,
   "metadata": {},
   "outputs": [
    {
     "ename": "FileNotFoundError",
     "evalue": "[Errno 2] No such file or directory: '../data/UE-collected/train_dense/transforms_ref.json'",
     "output_type": "error",
     "traceback": [
      "\u001b[0;31m---------------------------------------------------------------------------\u001b[0m",
      "\u001b[0;31mFileNotFoundError\u001b[0m                         Traceback (most recent call last)",
      "\u001b[0;32m/tmp/ipykernel_1715138/2197617703.py\u001b[0m in \u001b[0;36m<module>\u001b[0;34m\u001b[0m\n\u001b[1;32m      1\u001b[0m \u001b[0mtransforms_path_ref\u001b[0m \u001b[0;34m=\u001b[0m \u001b[0mos\u001b[0m\u001b[0;34m.\u001b[0m\u001b[0mpath\u001b[0m\u001b[0;34m.\u001b[0m\u001b[0mjoin\u001b[0m\u001b[0;34m(\u001b[0m\u001b[0mdata_path\u001b[0m\u001b[0;34m,\u001b[0m \u001b[0msubset\u001b[0m\u001b[0;34m,\u001b[0m \u001b[0;34m'transforms_ref.json'\u001b[0m\u001b[0;34m)\u001b[0m\u001b[0;34m\u001b[0m\u001b[0;34m\u001b[0m\u001b[0m\n\u001b[1;32m      2\u001b[0m \u001b[0mout_contents\u001b[0m \u001b[0;34m=\u001b[0m \u001b[0;34m{\u001b[0m\u001b[0;34m}\u001b[0m\u001b[0;34m\u001b[0m\u001b[0;34m\u001b[0m\u001b[0m\n\u001b[0;32m----> 3\u001b[0;31m \u001b[0;32mwith\u001b[0m \u001b[0mopen\u001b[0m\u001b[0;34m(\u001b[0m\u001b[0mtransforms_path_ref\u001b[0m\u001b[0;34m)\u001b[0m \u001b[0;32mas\u001b[0m \u001b[0mjson_file\u001b[0m\u001b[0;34m:\u001b[0m\u001b[0;34m\u001b[0m\u001b[0;34m\u001b[0m\u001b[0m\n\u001b[0m\u001b[1;32m      4\u001b[0m     \u001b[0mref_contents\u001b[0m \u001b[0;34m=\u001b[0m \u001b[0mjson\u001b[0m\u001b[0;34m.\u001b[0m\u001b[0mload\u001b[0m\u001b[0;34m(\u001b[0m\u001b[0mjson_file\u001b[0m\u001b[0;34m)\u001b[0m\u001b[0;34m\u001b[0m\u001b[0;34m\u001b[0m\u001b[0m\n\u001b[1;32m      5\u001b[0m \u001b[0;32mwith\u001b[0m \u001b[0mopen\u001b[0m\u001b[0;34m(\u001b[0m\u001b[0mtransforms_path\u001b[0m\u001b[0;34m,\u001b[0m \u001b[0;34m'r'\u001b[0m\u001b[0;34m,\u001b[0m \u001b[0mencoding\u001b[0m\u001b[0;34m=\u001b[0m\u001b[0;34m'utf-16'\u001b[0m\u001b[0;34m)\u001b[0m \u001b[0;32mas\u001b[0m \u001b[0mjson_file\u001b[0m\u001b[0;34m:\u001b[0m\u001b[0;34m\u001b[0m\u001b[0;34m\u001b[0m\u001b[0m\n",
      "\u001b[0;31mFileNotFoundError\u001b[0m: [Errno 2] No such file or directory: '../data/UE-collected/train_dense/transforms_ref.json'"
     ]
    }
   ],
   "source": [
    "transforms_path_ref = os.path.join(data_path, subset, 'transforms_ref.json')\n",
    "out_contents = {}\n",
    "with open(transforms_path_ref) as json_file:\n",
    "    ref_contents = json.load(json_file)\n",
    "with open(transforms_path, 'r', encoding='utf-16') as json_file:\n",
    "    contents = json.load(json_file)\n",
    "    contents['Sensor_Width'] = 23.76  # mm\n",
    "    contents['Sensor_Height'] = 13.365  # mm\n",
    "    contents['Current_Focal_Length'] = 11.8  # mm\n",
    "    contents['camera_angle_x'] = 90.387123 * np.pi / 180  # degree to rad\n",
    "\n",
    "# initialize out_contents with the same keys as ref_contents\n",
    "for key in ref_contents.keys():\n",
    "    if key == 'frames':\n",
    "        out_contents[key] = []\n",
    "    else:\n",
    "        out_contents[key] = 0\n",
    "\n",
    "out_contents['camera_angle_x'] = contents['camera_angle_x']\n",
    "out_contents['cx'] = contents['cx']\n",
    "out_contents['cy'] = contents['cy']\n",
    "out_contents['w'] = contents['w']\n",
    "out_contents['h'] = contents['h']\n",
    "out_contents['fl_x'] = contents['w'] / contents['Sensor_Width'] * contents['Current_Focal_Length']\n",
    "out_contents['fl_y'] = contents['h'] / contents['Sensor_Height'] * contents['Current_Focal_Length']\n",
    "camera_angle_x = np.arctan(0.5 * contents['Sensor_Width'] / contents['Current_Focal_Length']) * 2\n",
    "\n",
    "frames = contents[\"Frames\"]\n",
    "for idx, frame in enumerate(frames):\n",
    "    c2w = frame['transform_matrix']\n",
    "    c2w = c2w.replace('[', '').replace(']', '').replace(',', '').split(' ')\n",
    "    c2w = [float(i) for i in c2w if i != '']\n",
    "    c2w = np.array(c2w).reshape(4, 4).T\n",
    "    c2w[:3, 3] = c2w[:3, 3] / 100  # cm to m\n",
    "\n",
    "    c2w_gs = np.zeros((4, 4))\n",
    "    c2w_gs[:3, 3] = c2w[:3, 3]\n",
    "    c2w_gs[:3, 0] = c2w[:3, 1]\n",
    "    c2w_gs[:3, 1] = c2w[:3, 2]\n",
    "    c2w_gs[:3, 2] = -c2w[:3, 0]\n",
    "    file_path = os.path.join(subset, os.path.split(frame['file_path'])[-1])\n",
    "    out_contents['frames'].append({'file_path': file_path, 'transform_matrix': c2w_gs.tolist()})\n",
    "\n",
    "transforms_path_out = os.path.join(data_path, subset, 'transforms_train.json')\n",
    "with open(transforms_path_out, 'w') as json_file:\n",
    "    json.dump(out_contents, json_file, indent=4)\n",
    "\n",
    "print('Here')"
   ]
  }
 ],
 "metadata": {
  "kernelspec": {
   "display_name": "Python 3 (ipykernel)",
   "language": "python",
   "name": "python3"
  },
  "language_info": {
   "codemirror_mode": {
    "name": "ipython",
    "version": 3
   },
   "file_extension": ".py",
   "mimetype": "text/x-python",
   "name": "python",
   "nbconvert_exporter": "python",
   "pygments_lexer": "ipython3",
   "version": "3.7.12"
  },
  "orig_nbformat": 4
 },
 "nbformat": 4,
 "nbformat_minor": 2
}
