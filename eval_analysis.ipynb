{
 "cells": [
  {
   "cell_type": "code",
   "execution_count": 1,
   "metadata": {},
   "outputs": [],
   "source": [
    "import os\n",
    "import json\n",
    "import numpy as np\n",
    "from prettytable import PrettyTable\n",
    "\n",
    "all_scenes = ['garden', 'room', 'drjohnson', 'counter', 'playroom', 'train', 'kitchen', 'bicycle', 'stump', 'bonsai', 'truck']\n",
    "m360_scenes = ['garden', 'room', 'counter', 'kitchen', 'bicycle', 'stump', 'bonsai']\n",
    "db_scenes = ['drjohnson', 'playroom']\n",
    "tandt_scenes = ['train', 'truck']\n",
    "scenes = all_scenes"
   ]
  },
  {
   "cell_type": "code",
   "execution_count": 2,
   "metadata": {},
   "outputs": [
    {
     "name": "stdout",
     "output_type": "stream",
     "text": [
      "+------------+--------+---------+--------+-----------+--------+---------+--------+\n",
      "| ours_30000 |  SSIM  |   PSNR  | LPIPS  | ours_7000 |  SSIM  |   PSNR  | LPIPS  |\n",
      "+------------+--------+---------+--------+-----------+--------+---------+--------+\n",
      "|   garden   | 0.8669 | 27.4065 | 0.1063 |   garden  | 0.8285 | 26.2095 | 0.1629 |\n",
      "|    room    | 0.9195 |  31.569 | 0.2178 |    room   | 0.8948 | 29.5165 | 0.2605 |\n",
      "| drjohnson  | 0.9004 | 29.0834 | 0.2445 | drjohnson | 0.8615 | 27.0283 | 0.3328 |\n",
      "|  counter   | 0.9085 | 29.0039 | 0.2001 |  counter  | 0.8785 | 27.1755 | 0.2453 |\n",
      "|  playroom  | 0.9072 | 30.0093 | 0.2433 |  playroom | 0.8979 | 29.5556 | 0.2867 |\n",
      "|   train    | 0.8134 | 21.9383 | 0.2079 |   train   | 0.7107 | 19.4114 | 0.3299 |\n",
      "|  kitchen   | 0.9277 | 31.5889 | 0.1257 |  kitchen  | 0.905  | 29.4152 | 0.1583 |\n",
      "|  bicycle   | 0.7658 | 25.1973 | 0.2097 |  bicycle  | 0.6651 |  23.593 | 0.334  |\n",
      "|   stump    | 0.7721 | 26.5976 | 0.2149 |   stump   | 0.7235 | 25.7233 | 0.2938 |\n",
      "|   bonsai   | 0.9422 |  32.217 | 0.2034 |   bonsai  | 0.922  | 29.6562 | 0.2355 |\n",
      "|   truck    | 0.8819 |  25.423 | 0.1471 |   truck   | 0.8496 | 23.8868 | 0.2002 |\n",
      "|  AVERAGE   | 0.8732 | 28.1849 | 0.1928 |  AVERAGE  | 0.8306 | 26.4701 | 0.2582 |\n",
      "+------------+--------+---------+--------+-----------+--------+---------+--------+\n"
     ]
    }
   ],
   "source": [
    "eval_path = './eval'\n",
    "folders = os.listdir(eval_path)\n",
    "\n",
    "metrics_dict = {}\n",
    "for folder in folders:\n",
    "    result_path = os.path.join(eval_path, folder, 'results.json')\n",
    "\n",
    "    if not os.path.exists(result_path):\n",
    "        continue\n",
    "    if folder not in scenes:\n",
    "        continue\n",
    "    data = json.load(open(result_path))\n",
    "    for key in data.keys():\n",
    "        if key not in metrics_dict:\n",
    "            metrics_dict[key] = {}\n",
    "            metrics_dict[key]['name'] = []\n",
    "        metrics_dict[key]['name'].append(folder)\n",
    "        for metric_key in data[key].keys():\n",
    "            if metric_key not in metrics_dict[key]:\n",
    "                metrics_dict[key][metric_key] = []\n",
    "            metrics_dict[key][metric_key].append(data[key][metric_key])\n",
    "\n",
    "# turn metrics_dict to a PrettyTable\n",
    "table = PrettyTable()\n",
    "avg_dict = []\n",
    "for iter in metrics_dict.keys():\n",
    "    for key in metrics_dict[iter].keys():\n",
    "        if key == 'name':\n",
    "            metrics_dict[iter][key].append('AVERAGE')\n",
    "            table.add_column(iter, metrics_dict[iter][key])\n",
    "        else:\n",
    "            col_data = np.array(metrics_dict[iter][key])\n",
    "            avg = np.mean(col_data)\n",
    "            col_data = np.append(col_data, avg)\n",
    "            table.add_column(key, np.round(col_data, decimals=4))\n",
    "print(table.get_string())"
   ]
  },
  {
   "cell_type": "code",
   "execution_count": 3,
   "metadata": {},
   "outputs": [
    {
     "name": "stdout",
     "output_type": "stream",
     "text": [
      "Done\n"
     ]
    }
   ],
   "source": [
    "scene = 'stump'\n",
    "img_path = os.path.join(eval_path, scene, 'test/ours_30000')\n",
    "gt_path = os.path.join(img_path, 'gt')\n",
    "renders_path = os.path.join(img_path, 'renders')\n",
    "\n",
    "file_names = os.listdir(gt_path)\n",
    "file_names.sort()\n",
    "print('Done')"
   ]
  }
 ],
 "metadata": {
  "kernelspec": {
   "display_name": "3DGS",
   "language": "python",
   "name": "python3"
  },
  "language_info": {
   "codemirror_mode": {
    "name": "ipython",
    "version": 3
   },
   "file_extension": ".py",
   "mimetype": "text/x-python",
   "name": "python",
   "nbconvert_exporter": "python",
   "pygments_lexer": "ipython3",
   "version": "3.7.12"
  }
 },
 "nbformat": 4,
 "nbformat_minor": 2
}
